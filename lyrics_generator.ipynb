{
 "cells": [
  {
   "attachments": {},
   "cell_type": "markdown",
   "metadata": {},
   "source": [
    "# AI Markov Chain Lyric Composer"
   ]
  },
  {
   "attachments": {},
   "cell_type": "markdown",
   "metadata": {},
   "source": [
    "I've always enjoyed music. I love playing the guitar and piano (and occasionaly sing on Karaoke nights). I've always been pretty good at creating decent sounding riffs on the guitar, or a nice melody on the piano - but lyrics have always escaped me.\n",
    "\n",
    "For this project, I set out to create an AI that could generate lyrics for me! These lyrics will be based on existing artists songs, hopefully keeping in style with some of my favourite artists!\n",
    "\n",
    "To do this we're going to be creating a markov chain composer to randomly generate song lyrics :o"
   ]
  },
  {
   "attachments": {},
   "cell_type": "markdown",
   "metadata": {},
   "source": [
    "## Summary about the following code and what it does. \n",
    "- First we will use a rest API from lyricsgenius.com to extract lyrics from the internet.\n",
    "- Second, we will be cleaning and loading the lyrics into easy to use csv files.\n",
    "- Lastly, we will use a markov chain composer to create lyric graphs, and \"compose\" lyrics from it.\n",
    "\n",
    "Let's get started!<br>\n",
    "![Adventure Awaits](https://media.giphy.com/media/wPyDWwurn8XEWdR9ol/giphy.gif)"
   ]
  },
  {
   "attachments": {},
   "cell_type": "markdown",
   "metadata": {},
   "source": [
    "## Extracting Lyrics"
   ]
  },
  {
   "attachments": {},
   "cell_type": "markdown",
   "metadata": {},
   "source": [
    "Let's extract some lyrics!\n",
    "\n",
    "First we can import a function I've created to extract, transform, and load lyrics using the lyrics genius library and API.\n",
    "\n",
    "Here we can see a few of my favourite artists, alongside some popular ones. I've made sure to select some artists with plenty of lyrics!\n",
    "\n",
    "<div>\n",
    "    <img \n",
    "        src=\"https://media.giphy.com/media/xiqh6FhCaKlqBCIK5e/giphy.gif\"\n",
    "        style=\"height:100px\">\n",
    "</div>\n",
    "\n",
    "The API isn't always reliable and often times-out to avoid overloading the website, so some patience is required when doing this process :)"
   ]
  },
  {
   "cell_type": "code",
   "execution_count": 3,
   "metadata": {},
   "outputs": [
    {
     "name": "stdout",
     "output_type": "stream",
     "text": [
      "Searching for songs by Ed Sheeran...\n",
      "\n",
      "Song 1: \"Shape of You\"\n",
      "Song 2: \"Perfect\"\n",
      "Song 3: \"Castle on the Hill\"\n",
      "Song 4: \"Happier\"\n",
      "Song 5: \"Thinking Out Loud\"\n",
      "\n",
      "Reached user-specified song limit (5).\n",
      "Done. Found 5 songs.\n"
     ]
    }
   ],
   "source": [
    "from lyrics_genius import generate_lyrics\n",
    "\n",
    "if __name__ == '__main__':\n",
    "    user_artists = ['Ed Sheeran']#,\n",
    "                    # 'Linkin Park',\n",
    "                    # 'Bring Me the Horizon',\n",
    "                    # 'Adele',\n",
    "                    # 'Of Monsters and Men']\n",
    "    \n",
    "    for artist in user_artists:\n",
    "        try:\n",
    "            generate_lyrics(artist)\n",
    "        # Print the following if connection to the API times out or fails\n",
    "        except:\n",
    "            print('Artist lyrics could not be imported.')"
   ]
  },
  {
   "attachments": {},
   "cell_type": "markdown",
   "metadata": {},
   "source": [
    "Next up we can begin to compose our custom lyrics! But first let's have a little overview of how a markov chain works.\n",
    "\n",
    "We can see a diagram below of a markov chain, also known as a graph\n",
    "\n",
    "<div>\n",
    "    <img \n",
    "        src=\"rick_roll_markov.png\"\n",
    "        style=\"height:100x; background-color:white;\">\n",
    "</div>\n",
    "\n",
    "Each of the circles represent a node, or a word in our case. The circles are connected via directional arrows to other circles, which shows the order in which words are spoken in songs.\n",
    "\n",
    "The directional arrows also have a number associated with them, which denotes a weighting between this next word. For example, it is equally likely for the next word after \"gonna\" to be \"give\" or \"let\".\n",
    "\n",
    "If we were to take a random walk along this markov graph, we could just as easily get the new lyric:\n",
    "\"Never gonna let you up\", which doesn't really make for a great song lyric, but still abides somewhat to English grammar!"
   ]
  },
  {
   "attachments": {},
   "cell_type": "markdown",
   "metadata": {},
   "source": [
    "## Generating Lyrics"
   ]
  },
  {
   "attachments": {},
   "cell_type": "markdown",
   "metadata": {},
   "source": [
    "Next up it's time to generate our own lyrics using markov chains! We can import the 'Markov' object I created to easily generate Markov chains and then take random walks along them to generate lyrics!"
   ]
  },
  {
   "cell_type": "code",
   "execution_count": 9,
   "metadata": {},
   "outputs": [
    {
     "name": "stdout",
     "output_type": "stream",
     "text": [
      "on the light of the radio play the shape of you i did it a woman stronger than just know\n",
      "in love right where we push and you will not know that theres others that youll understand , you laugh , the\n",
      "you walk inside a thousand stars , and maybe its real , with you heard it darling i oh i oh i\n",
      "i was happier you i hurt you do , your body on his friends at twentythree , of you laugh , with the\n",
      "you laugh , baby im in your legs dont deserve you do , know i am still love with the shape of\n",
      "love with your body on the man on the club isnt the castle on be my future in love with\n",
      "but if youre holding mine , and she looks perfect tonight , on the castle on the truth , me under the castle\n",
      "in love was younger then kiss me the shape of my beating heart could still love with just kiss me\n",
      "in that i was six years old its real , i miss the grass listening to tiny dancer , i see my\n",
      "with the sour , and trust me and last night you every day discovering something brand new , the club isnt the\n"
     ]
    }
   ],
   "source": [
    "from markov import Markov\n",
    "\n",
    "lp = Markov('Lyrics/ed_sheeran.csv')\n",
    "for i in range(10):\n",
    "    print(lp.write_bar(word_count = 20))"
   ]
  },
  {
   "attachments": {},
   "cell_type": "markdown",
   "metadata": {},
   "source": [
    "There's definitely some wild lyrics coming out of there :o\n",
    "\n",
    "Here's a few of my personal favourite lines that were generated from the markov chain composer. Creating a song still requires some creative direction, as this isn't a complete song generator, just a line by line lyric generator! In the future I hope to create an AI which generates entire songs, but for now here's a song by Markovian Ed Sheeran...."
   ]
  },
  {
   "attachments": {},
   "cell_type": "markdown",
   "metadata": {},
   "source": [
    "## Six Years Old by Ed Sheeran* \n",
    "\n",
    "**Markov chain generated Ed >:O"
   ]
  },
  {
   "attachments": {},
   "cell_type": "markdown",
   "metadata": {},
   "source": [
    "<p>\n",
    "[Verse]<br>\n",
    "on the light of the radio play the shape of you<br>\n",
    "I did it a woman stronger than just know<br>\n",
    "in love right where we push<br>\n",
    "and you will not know that theres others<br>\n",
    "<br>\n",
    "and maybe its real<br>\n",
    "you heard it darling oh i oh<br>\n",
    "i was happier<br>\n",
    "you i hurt you do<br>\n",
    "<br>\n",
    "[Pre-chorus]<br>\n",
    "your body on his friends at twentythree<br>\n",
    "of you laugh , with the you laugh<br>\n",
    "baby im in your legs dont deserve you do<br>\n",
    "know i am still love with the shape of love<br>\n",
    "<br>\n",
    "[Chorus]<br>\n",
    "with your body on the man on the club<br>\n",
    "isnt the castle on be my future in love<br>\n",
    "but if youre holding mine<br>\n",
    "and she looks perfect tonight<br>\n",
    "\n",
    "on the castle on the truth<br>\n",
    "me under the castle in love<br>\n",
    "the shape of my beating heart could still love<br>\n",
    "in that i was six years old its real.....\n",
    "</p>"
   ]
  },
  {
   "attachments": {},
   "cell_type": "markdown",
   "metadata": {},
   "source": [
    "Okay you get the point....time to work on a lyric composer that actually generates good lyrics!\n",
    "\n",
    "Thanks for reading :)\n",
    "\n",
    "![ending gif](https://media.giphy.com/media/oewr5qXiye6fm/giphy.gif)"
   ]
  }
 ],
 "metadata": {
  "kernelspec": {
   "display_name": "Python 3",
   "language": "python",
   "name": "python3"
  },
  "language_info": {
   "codemirror_mode": {
    "name": "ipython",
    "version": 3
   },
   "file_extension": ".py",
   "mimetype": "text/x-python",
   "name": "python",
   "nbconvert_exporter": "python",
   "pygments_lexer": "ipython3",
   "version": "3.9.13"
  },
  "orig_nbformat": 4,
  "vscode": {
   "interpreter": {
    "hash": "f4ed4f8ba25ae6ec5b66469ad0800cc49bc0438e9a249d5996dc1d2b70ba14f7"
   }
  }
 },
 "nbformat": 4,
 "nbformat_minor": 2
}
